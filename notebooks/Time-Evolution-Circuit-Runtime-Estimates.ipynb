{
 "cells": [
  {
   "cell_type": "markdown",
   "metadata": {},
   "source": [
    "# Estimating evolution circuit runtimes"
   ]
  },
  {
   "cell_type": "markdown",
   "metadata": {},
   "source": [
    "The aim of this notebook is to explain the noisy Hamiltonian simulation results. In these results, the trace distance plateaus at a specific value; and for the Gray code encoding, there is actually an inflection point, i.e. trace distance decreases up to a point, but then gets worse. \n",
    "\n",
    "A reasonable explanation for these features would be:\n",
    " - the plateaus occur when the output state is fully decohered (we can check this by computing the trace distance of the true output state with the maximally mixed state, and see if we get a similar value)\n",
    " - the dip in the Gray code version occurs when the circuit execution times start to surpass coherence times\n",
    " \n",
    "Let's do some very rough estimates and see if we're in the ballpark."
   ]
  },
  {
   "cell_type": "code",
   "execution_count": 1,
   "metadata": {},
   "outputs": [],
   "source": [
    "import numpy as np\n",
    "np.warnings.filterwarnings('ignore')\n",
    "\n",
    "import pickle\n",
    "\n",
    "from scipy.linalg import expm\n",
    "\n",
    "# Everything we need from Qiskit\n",
    "from qiskit import ClassicalRegister, QuantumRegister, QuantumCircuit\n",
    "from qiskit import execute, Aer\n",
    "from qiskit.quantum_info import Pauli\n",
    "\n",
    "from qiskit.aqua.operators import WeightedPauliOperator\n",
    "from qiskit.aqua.components.initial_states import Custom\n",
    "\n",
    "import qutip as qt\n",
    "\n",
    "import sys\n",
    "sys.path.append(\"../src/\")\n",
    "from hamiltonian import *\n",
    "from utils import *\n",
    "from qiskit_circuits import *"
   ]
  },
  {
   "cell_type": "markdown",
   "metadata": {},
   "source": [
    "## Computing trace distances"
   ]
  },
  {
   "cell_type": "markdown",
   "metadata": {},
   "source": [
    "Here, we compare the trace distance of the true expected state after Hamiltonian evolution to the maximally mixed state, in order to explain the plateau."
   ]
  },
  {
   "cell_type": "code",
   "execution_count": 2,
   "metadata": {},
   "outputs": [],
   "source": [
    "# Perform unitary evolution \n",
    "def unitary_evolution(ham, t):\n",
    "    return expm(-1j * ham * t)"
   ]
  },
  {
   "cell_type": "code",
   "execution_count": 3,
   "metadata": {},
   "outputs": [
    {
     "name": "stdout",
     "output_type": "stream",
     "text": [
      "Expected trace distance for Gray code after decoherence: 0.7500000000000012\n"
     ]
    }
   ],
   "source": [
    "H = DenseEncodingHamiltonian(N_states=4)\n",
    "gc_ham_rep = reduce(lambda x, y: x + y, [p[1] * get_pauli_matrix(p[0]) for p in H.pauli_coeffs.items()])\n",
    "\n",
    "uniform_gc = 0.5 * np.array([[1], [1], [1], [1]])\n",
    "maximally_mixed_gc = (1./4)*np.eye(4)\n",
    "\n",
    "output_state_gc = unitary_evolution(gc_ham_rep, 1) @ uniform_gc\n",
    "td = qt.tracedist(qt.Qobj(output_state_gc), qt.Qobj(maximally_mixed_gc))\n",
    "\n",
    "print(f\"Expected trace distance for Gray code after decoherence: {td}\")"
   ]
  },
  {
   "cell_type": "code",
   "execution_count": 4,
   "metadata": {},
   "outputs": [
    {
     "name": "stdout",
     "output_type": "stream",
     "text": [
      "Expected trace distance: 0.9375000000000004\n"
     ]
    }
   ],
   "source": [
    "oh = SparseEncodingHamiltonian(N_states=4)\n",
    "oh_ham_rep = reduce(lambda x, y: x + y, [p[1] * get_pauli_matrix(p[0]) for p in oh.pauli_coeffs.items()])\n",
    "\n",
    "uniform_oh = 0.5 * np.array([[0,1,1,0,1,0,0,0,1,0,0,0,0,0,0,0]]).reshape((16, 1))\n",
    "maximally_mixed_oh = (1./16)*np.eye(16)\n",
    "\n",
    "output_state_oh = unitary_evolution(oh_ham_rep, 1) @ uniform_oh\n",
    "td = qt.tracedist(qt.Qobj(output_state_oh), qt.Qobj(maximally_mixed_oh))\n",
    "\n",
    "print(f\"Expected trace distance: {td}\")"
   ]
  },
  {
   "cell_type": "markdown",
   "metadata": {},
   "source": [
    "From the graphics in the other file, these are reasonably close to the values of the plateaued trace distance. The Gray code one is maybe slightly lower than we would expect, but still around the right place."
   ]
  },
  {
   "cell_type": "markdown",
   "metadata": {},
   "source": [
    "## Circuit run time estimates"
   ]
  },
  {
   "cell_type": "code",
   "execution_count": 5,
   "metadata": {},
   "outputs": [],
   "source": [
    "# Numbers pulled from Vigo device model from the noisy simulations\n",
    "qubit0_t2 = 17.14151362421807e-6\n",
    "qubit1_t2 = 111.42172460237252e-6\n",
    "qubit2_t2 = 141.43954844693835e-6\n",
    "qubit3_t2 = 120.90398756232938e-6\n",
    "\n",
    "# Gate time estimates pulled from Vigo a different day; just an estimate, we'll average\n",
    "mean_1qubit_gate_length = 71.1e-9\n",
    "cnot_01 = 348.4e-9\n",
    "cnot_10 = 384e-9\n",
    "cnot_12 = 227.5e-9\n",
    "cnot_21 = 263.11e-9\n",
    "mean_cnot = (cnot_01 + cnot_10 + cnot_12 + cnot_21) / 4\n",
    "\n",
    "# Arbitrary simulation time\n",
    "T = 1\n",
    "backend = Aer.get_backend('statevector_simulator')"
   ]
  },
  {
   "cell_type": "markdown",
   "metadata": {},
   "source": [
    "Determine the evolution circuit for the Gray code version - then count the time steps and multiple by the number of Trotter steps to get an idea of the run time."
   ]
  },
  {
   "cell_type": "code",
   "execution_count": 6,
   "metadata": {},
   "outputs": [
    {
     "data": {
      "text/plain": [
       "<qiskit.circuit.instructionset.InstructionSet at 0x7f7c6b96da10>"
      ]
     },
     "execution_count": 6,
     "metadata": {},
     "output_type": "execute_result"
    }
   ],
   "source": [
    "H_gc = DenseEncodingHamiltonian(N_states=4)\n",
    "\n",
    "weighted_paulis = [(v, Pauli.from_label(k)) for (k, v) in list(H_gc.pauli_coeffs.items())]\n",
    "my_pauli = WeightedPauliOperator(weighted_paulis)\n",
    "\n",
    "# Boilerplate code from tutorial\n",
    "q = QuantumRegister(H_gc.N_qubits)\n",
    "c = ClassicalRegister(H_gc.N_qubits)\n",
    "\n",
    "circuit = QuantumCircuit(q, c)\n",
    "\n",
    "circuit.h(q)\n",
    "\n",
    "circuit += my_pauli.evolve(\n",
    "    None, evo_time=T, num_time_slices=1,\n",
    "    quantum_registers=q,\n",
    "    expansion_mode='trotter'\n",
    ")\n",
    "\n",
    "circuit.measure(q, c)"
   ]
  },
  {
   "cell_type": "code",
   "execution_count": 7,
   "metadata": {},
   "outputs": [
    {
     "data": {
      "text/html": [
       "<pre style=\"word-wrap: normal;white-space: pre;background: #fff0;line-height: 1.1;font-family: &quot;Courier New&quot;,Courier,monospace\">      ┌─────────┐                        ┌────────────┐                       »\n",
       "q0_0: ┤ U2(0,π) ├──■──────────────────■──┤ P(-2.8433) ├───────■───────────────»\n",
       "      ├─────────┤┌─┴─┐┌────────────┐┌─┴─┐├────────────┤┌───┐┌─┴─┐┌───────────┐»\n",
       "q0_1: ┤ U2(0,π) ├┤ X ├┤ P(-9.8433) ├┤ X ├┤ P(-16.843) ├┤ H ├┤ X ├┤ P(7.8262) ├»\n",
       "      └─────────┘└───┘└────────────┘└───┘└────────────┘└───┘└───┘└───────────┘»\n",
       "c0: 2/════════════════════════════════════════════════════════════════════════»\n",
       "                                                                              »\n",
       "«           ┌───┐                                               ┌───┐┌───┐»\n",
       "«q0_0: ──■──┤ H ├──────────────────────────■─────────────────■──┤ H ├┤ H ├»\n",
       "«      ┌─┴─┐├───┤┌───┐┌────────────┐┌───┐┌─┴─┐┌───────────┐┌─┴─┐└┬─┬┘└───┘»\n",
       "«q0_1: ┤ X ├┤ H ├┤ H ├┤ P(-7.8262) ├┤ H ├┤ X ├┤ P(7.0547) ├┤ X ├─┤M├──────»\n",
       "«      └───┘└───┘└───┘└────────────┘└───┘└───┘└───────────┘└───┘ └╥┘      »\n",
       "«c0: 2/═══════════════════════════════════════════════════════════╩═══════»\n",
       "«                                                                 1       »\n",
       "«      ┌────────────┐┌───┐┌─┐\n",
       "«q0_0: ┤ P(-15.628) ├┤ H ├┤M├\n",
       "«      └────────────┘└───┘└╥┘\n",
       "«q0_1: ────────────────────╫─\n",
       "«                          ║ \n",
       "«c0: 2/════════════════════╩═\n",
       "«                          0 </pre>"
      ],
      "text/plain": [
       "      ┌─────────┐                        ┌────────────┐                       »\n",
       "q0_0: ┤ U2(0,π) ├──■──────────────────■──┤ P(-2.8433) ├───────■───────────────»\n",
       "      ├─────────┤┌─┴─┐┌────────────┐┌─┴─┐├────────────┤┌───┐┌─┴─┐┌───────────┐»\n",
       "q0_1: ┤ U2(0,π) ├┤ X ├┤ P(-9.8433) ├┤ X ├┤ P(-16.843) ├┤ H ├┤ X ├┤ P(7.8262) ├»\n",
       "      └─────────┘└───┘└────────────┘└───┘└────────────┘└───┘└───┘└───────────┘»\n",
       "c0: 2/════════════════════════════════════════════════════════════════════════»\n",
       "                                                                              »\n",
       "«           ┌───┐                                               ┌───┐┌───┐»\n",
       "«q0_0: ──■──┤ H ├──────────────────────────■─────────────────■──┤ H ├┤ H ├»\n",
       "«      ┌─┴─┐├───┤┌───┐┌────────────┐┌───┐┌─┴─┐┌───────────┐┌─┴─┐└┬─┬┘└───┘»\n",
       "«q0_1: ┤ X ├┤ H ├┤ H ├┤ P(-7.8262) ├┤ H ├┤ X ├┤ P(7.0547) ├┤ X ├─┤M├──────»\n",
       "«      └───┘└───┘└───┘└────────────┘└───┘└───┘└───────────┘└───┘ └╥┘      »\n",
       "«c0: 2/═══════════════════════════════════════════════════════════╩═══════»\n",
       "«                                                                 1       »\n",
       "«      ┌────────────┐┌───┐┌─┐\n",
       "«q0_0: ┤ P(-15.628) ├┤ H ├┤M├\n",
       "«      └────────────┘└───┘└╥┘\n",
       "«q0_1: ────────────────────╫─\n",
       "«                          ║ \n",
       "«c0: 2/════════════════════╩═\n",
       "«                          0 "
      ]
     },
     "execution_count": 7,
     "metadata": {},
     "output_type": "execute_result"
    }
   ],
   "source": [
    "circuit.decompose().draw()"
   ]
  },
  {
   "cell_type": "code",
   "execution_count": 8,
   "metadata": {},
   "outputs": [],
   "source": [
    "# Count up layers of depth; ignore the first row of U2 because that's just\n",
    "# the Hadamards for state prep and is not repeated in multiple Trotter steps\n",
    "# Calculated by inspection of the above circuit \n",
    "gc_circuit_time_estimate = 13*mean_1qubit_gate_length + 6*cnot_01"
   ]
  },
  {
   "cell_type": "code",
   "execution_count": 9,
   "metadata": {},
   "outputs": [
    {
     "name": "stdout",
     "output_type": "stream",
     "text": [
      "Coherence time qubit 0 (μs): 17.14\n",
      "Coherence time qubit 1 (μs): 111.42\n",
      "\n",
      "1 Trotter steps, execution time estimate (μs) 3.09\n",
      "2 Trotter steps, execution time estimate (μs) 6.10\n",
      "3 Trotter steps, execution time estimate (μs) 9.12\n",
      "4 Trotter steps, execution time estimate (μs) 12.13\n",
      "5 Trotter steps, execution time estimate (μs) 15.14\n",
      "6 Trotter steps, execution time estimate (μs) 18.16\n",
      "7 Trotter steps, execution time estimate (μs) 21.17\n",
      "8 Trotter steps, execution time estimate (μs) 24.19\n",
      "9 Trotter steps, execution time estimate (μs) 27.20\n",
      "10 Trotter steps, execution time estimate (μs) 30.22\n",
      "11 Trotter steps, execution time estimate (μs) 33.23\n",
      "12 Trotter steps, execution time estimate (μs) 36.25\n",
      "13 Trotter steps, execution time estimate (μs) 39.26\n",
      "14 Trotter steps, execution time estimate (μs) 42.28\n",
      "15 Trotter steps, execution time estimate (μs) 45.29\n",
      "16 Trotter steps, execution time estimate (μs) 48.31\n",
      "17 Trotter steps, execution time estimate (μs) 51.32\n",
      "18 Trotter steps, execution time estimate (μs) 54.34\n",
      "19 Trotter steps, execution time estimate (μs) 57.35\n",
      "20 Trotter steps, execution time estimate (μs) 60.37\n",
      "21 Trotter steps, execution time estimate (μs) 63.38\n",
      "22 Trotter steps, execution time estimate (μs) 66.39\n",
      "23 Trotter steps, execution time estimate (μs) 69.41\n",
      "24 Trotter steps, execution time estimate (μs) 72.42\n",
      "25 Trotter steps, execution time estimate (μs) 75.44\n",
      "26 Trotter steps, execution time estimate (μs) 78.45\n",
      "27 Trotter steps, execution time estimate (μs) 81.47\n",
      "28 Trotter steps, execution time estimate (μs) 84.48\n",
      "29 Trotter steps, execution time estimate (μs) 87.50\n",
      "30 Trotter steps, execution time estimate (μs) 90.51\n",
      "31 Trotter steps, execution time estimate (μs) 93.53\n",
      "32 Trotter steps, execution time estimate (μs) 96.54\n",
      "33 Trotter steps, execution time estimate (μs) 99.56\n",
      "34 Trotter steps, execution time estimate (μs) 102.57\n",
      "35 Trotter steps, execution time estimate (μs) 105.59\n",
      "36 Trotter steps, execution time estimate (μs) 108.60\n",
      "37 Trotter steps, execution time estimate (μs) 111.62\n",
      "38 Trotter steps, execution time estimate (μs) 114.63\n",
      "39 Trotter steps, execution time estimate (μs) 117.64\n",
      "40 Trotter steps, execution time estimate (μs) 120.66\n",
      "41 Trotter steps, execution time estimate (μs) 123.67\n",
      "42 Trotter steps, execution time estimate (μs) 126.69\n",
      "43 Trotter steps, execution time estimate (μs) 129.70\n",
      "44 Trotter steps, execution time estimate (μs) 132.72\n"
     ]
    }
   ],
   "source": [
    "print(f\"Coherence time qubit 0 (μs): {1e6*qubit0_t2:.2f}\")\n",
    "print(f\"Coherence time qubit 1 (μs): {1e6*qubit1_t2:.2f}\")\n",
    "print()\n",
    "for trotter_steps in range(1, 45):\n",
    "    circuit_time_estimate = mean_1qubit_gate_length + trotter_steps*gc_circuit_time_estimate\n",
    "    print(f\"{trotter_steps} Trotter steps, execution time estimate (μs) {1e6*circuit_time_estimate:.2f}\")"
   ]
  },
  {
   "cell_type": "markdown",
   "metadata": {},
   "source": [
    "So the time estimates are still less than the coherence time of the 2nd qubit until around 36 Trotter steps. This is about to point where things are beginning to plateau, so this checks out."
   ]
  },
  {
   "cell_type": "markdown",
   "metadata": {},
   "source": [
    "Now for the one-hot version..."
   ]
  },
  {
   "cell_type": "code",
   "execution_count": 10,
   "metadata": {},
   "outputs": [
    {
     "data": {
      "text/html": [
       "<pre style=\"word-wrap: normal;white-space: pre;background: #fff0;line-height: 1.1;font-family: &quot;Courier New&quot;,Courier,monospace\">         ┌───────────┐   ┌───┐┌────────────┐┌─────────────────┐           »\n",
       "q2_0: ───┤ U3(π,0,π) ├───┤ X ├┤ P(0.43658) ├┤ U(π/2,-π/2,π/2) ├───────────»\n",
       "        ┌┴───────────┴┐  └─┬─┘└────────────┘└─────────────────┘      ┌───┐»\n",
       "q2_1: ──┤ R(2π/3,π/2) ├────■────────■─────────────────────────────■──┤ X ├»\n",
       "      ┌─┴─────────────┴─┐         ┌─┴─┐     ┌──────────────────┐┌─┴─┐└─┬─┘»\n",
       "q2_2: ┤ U3(0.95532,0,0) ├─────────┤ X ├─────┤ U3(-0.95532,0,0) ├┤ X ├──■──»\n",
       "      └─┬─────────────┬─┘         └───┘     └──────────────────┘└───┘     »\n",
       "q2_3: ──┤ U3(π/4,0,0) ├───────────────────────────────────────────────────»\n",
       "        └─────────────┘                                                   »\n",
       "c1: 4/════════════════════════════════════════════════════════════════════»\n",
       "                                                                          »\n",
       "«                                                             »\n",
       "«q2_0: ───────────────────────────────────────────────────────»\n",
       "«      ┌───────────┐┌─────────────────┐                       »\n",
       "«q2_1: ┤ P(-12.25) ├┤ U(π/2,-π/2,π/2) ├───────────────────────»\n",
       "«      └───────────┘└─────────────────┘     ┌───┐┌───────────┐»\n",
       "«q2_2: ──────■───────────────────────────■──┤ X ├┤ P(-19.25) ├»\n",
       "«          ┌─┴─┐      ┌──────────────┐ ┌─┴─┐└─┬─┘├───────────┤»\n",
       "«q2_3: ────┤ X ├──────┤ U3(-π/4,0,0) ├─┤ X ├──■──┤ P(-26.25) ├»\n",
       "«          └───┘      └──────────────┘ └───┘     └───────────┘»\n",
       "«c1: 4/═══════════════════════════════════════════════════════»\n",
       "«                                                             »\n",
       "«                                                                     »\n",
       "«q2_0: ───────────────────────────────────────────────────────────────»\n",
       "«                                                                     »\n",
       "«q2_1: ───────────────────────────────────────────────────────────────»\n",
       "«      ┌─────────────────┐                        ┌──────────────────┐»\n",
       "«q2_2: ┤ U(π/2,-π/2,π/2) ├──■──────────────────■──┤ U(-π/2,-π/2,π/2) ├»\n",
       "«      ├─────────────────┤┌─┴─┐┌────────────┐┌─┴─┐├──────────────────┤»\n",
       "«q2_3: ┤ U(π/2,-π/2,π/2) ├┤ X ├┤ P(-11.341) ├┤ X ├┤ U(-π/2,-π/2,π/2) ├»\n",
       "«      └─────────────────┘└───┘└────────────┘└───┘└──────────────────┘»\n",
       "«c1: 4/═══════════════════════════════════════════════════════════════»\n",
       "«                                                                     »\n",
       "«                                                                     »\n",
       "«q2_0: ───────────────────────────────────────────────────────────────»\n",
       "«                                                 ┌──────────────────┐»\n",
       "«q2_1: ─────────────────────■──────────────────■──┤ U(-π/2,-π/2,π/2) ├»\n",
       "«      ┌─────────────────┐┌─┴─┐┌────────────┐┌─┴─┐├──────────────────┤»\n",
       "«q2_2: ┤ U(π/2,-π/2,π/2) ├┤ X ├┤ P(-7.8262) ├┤ X ├┤ U(-π/2,-π/2,π/2) ├»\n",
       "«      └──────┬───┬──────┘└───┘└────────────┘└───┘└──────────────────┘»\n",
       "«q2_3: ───────┤ H ├───────────────────────────────────────────────────»\n",
       "«             └───┘                                                   »\n",
       "«c1: 4/═══════════════════════════════════════════════════════════════»\n",
       "«                                                                     »\n",
       "«                                                 ┌──────────────────┐┌───┐»\n",
       "«q2_0: ─────────────────────■──────────────────■──┤ U(-π/2,-π/2,π/2) ├┤ H ├»\n",
       "«      ┌─────────────────┐┌─┴─┐┌────────────┐┌─┴─┐├──────────────────┤├───┤»\n",
       "«q2_1: ┤ U(π/2,-π/2,π/2) ├┤ X ├┤ P(-4.2866) ├┤ X ├┤ U(-π/2,-π/2,π/2) ├┤ H ├»\n",
       "«      └──────┬───┬──────┘└───┘└────────────┘└───┘└──────┬───┬───────┘├───┤»\n",
       "«q2_2: ───────┤ H ├─────────■──────────────────■─────────┤ H ├────────┤ H ├»\n",
       "«             └───┘       ┌─┴─┐┌────────────┐┌─┴─┐       ├───┤        └───┘»\n",
       "«q2_3: ───────────────────┤ X ├┤ P(-11.341) ├┤ X ├───────┤ H ├─────────────»\n",
       "«                         └───┘└────────────┘└───┘       └───┘             »\n",
       "«c1: 4/════════════════════════════════════════════════════════════════════»\n",
       "«                                                                          »\n",
       "«                                                                ┌───┐\n",
       "«q2_0: ────────────────────────────────────■──────────────────■──┤ H ├\n",
       "«                              ┌───┐┌───┐┌─┴─┐┌────────────┐┌─┴─┐├───┤\n",
       "«q2_1: ──■──────────────────■──┤ H ├┤ H ├┤ X ├┤ P(-4.2866) ├┤ X ├┤ H ├\n",
       "«      ┌─┴─┐┌────────────┐┌─┴─┐├───┤└───┘└───┘└────────────┘└───┘└───┘\n",
       "«q2_2: ┤ X ├┤ P(-7.8262) ├┤ X ├┤ H ├──────────────────────────────────\n",
       "«      └───┘└────────────┘└───┘└───┘                                  \n",
       "«q2_3: ───────────────────────────────────────────────────────────────\n",
       "«                                                                     \n",
       "«c1: 4/═══════════════════════════════════════════════════════════════\n",
       "«                                                                     </pre>"
      ],
      "text/plain": [
       "         ┌───────────┐   ┌───┐┌────────────┐┌─────────────────┐           »\n",
       "q2_0: ───┤ U3(π,0,π) ├───┤ X ├┤ P(0.43658) ├┤ U(π/2,-π/2,π/2) ├───────────»\n",
       "        ┌┴───────────┴┐  └─┬─┘└────────────┘└─────────────────┘      ┌───┐»\n",
       "q2_1: ──┤ R(2π/3,π/2) ├────■────────■─────────────────────────────■──┤ X ├»\n",
       "      ┌─┴─────────────┴─┐         ┌─┴─┐     ┌──────────────────┐┌─┴─┐└─┬─┘»\n",
       "q2_2: ┤ U3(0.95532,0,0) ├─────────┤ X ├─────┤ U3(-0.95532,0,0) ├┤ X ├──■──»\n",
       "      └─┬─────────────┬─┘         └───┘     └──────────────────┘└───┘     »\n",
       "q2_3: ──┤ U3(π/4,0,0) ├───────────────────────────────────────────────────»\n",
       "        └─────────────┘                                                   »\n",
       "c1: 4/════════════════════════════════════════════════════════════════════»\n",
       "                                                                          »\n",
       "«                                                             »\n",
       "«q2_0: ───────────────────────────────────────────────────────»\n",
       "«      ┌───────────┐┌─────────────────┐                       »\n",
       "«q2_1: ┤ P(-12.25) ├┤ U(π/2,-π/2,π/2) ├───────────────────────»\n",
       "«      └───────────┘└─────────────────┘     ┌───┐┌───────────┐»\n",
       "«q2_2: ──────■───────────────────────────■──┤ X ├┤ P(-19.25) ├»\n",
       "«          ┌─┴─┐      ┌──────────────┐ ┌─┴─┐└─┬─┘├───────────┤»\n",
       "«q2_3: ────┤ X ├──────┤ U3(-π/4,0,0) ├─┤ X ├──■──┤ P(-26.25) ├»\n",
       "«          └───┘      └──────────────┘ └───┘     └───────────┘»\n",
       "«c1: 4/═══════════════════════════════════════════════════════»\n",
       "«                                                             »\n",
       "«                                                                     »\n",
       "«q2_0: ───────────────────────────────────────────────────────────────»\n",
       "«                                                                     »\n",
       "«q2_1: ───────────────────────────────────────────────────────────────»\n",
       "«      ┌─────────────────┐                        ┌──────────────────┐»\n",
       "«q2_2: ┤ U(π/2,-π/2,π/2) ├──■──────────────────■──┤ U(-π/2,-π/2,π/2) ├»\n",
       "«      ├─────────────────┤┌─┴─┐┌────────────┐┌─┴─┐├──────────────────┤»\n",
       "«q2_3: ┤ U(π/2,-π/2,π/2) ├┤ X ├┤ P(-11.341) ├┤ X ├┤ U(-π/2,-π/2,π/2) ├»\n",
       "«      └─────────────────┘└───┘└────────────┘└───┘└──────────────────┘»\n",
       "«c1: 4/═══════════════════════════════════════════════════════════════»\n",
       "«                                                                     »\n",
       "«                                                                     »\n",
       "«q2_0: ───────────────────────────────────────────────────────────────»\n",
       "«                                                 ┌──────────────────┐»\n",
       "«q2_1: ─────────────────────■──────────────────■──┤ U(-π/2,-π/2,π/2) ├»\n",
       "«      ┌─────────────────┐┌─┴─┐┌────────────┐┌─┴─┐├──────────────────┤»\n",
       "«q2_2: ┤ U(π/2,-π/2,π/2) ├┤ X ├┤ P(-7.8262) ├┤ X ├┤ U(-π/2,-π/2,π/2) ├»\n",
       "«      └──────┬───┬──────┘└───┘└────────────┘└───┘└──────────────────┘»\n",
       "«q2_3: ───────┤ H ├───────────────────────────────────────────────────»\n",
       "«             └───┘                                                   »\n",
       "«c1: 4/═══════════════════════════════════════════════════════════════»\n",
       "«                                                                     »\n",
       "«                                                 ┌──────────────────┐┌───┐»\n",
       "«q2_0: ─────────────────────■──────────────────■──┤ U(-π/2,-π/2,π/2) ├┤ H ├»\n",
       "«      ┌─────────────────┐┌─┴─┐┌────────────┐┌─┴─┐├──────────────────┤├───┤»\n",
       "«q2_1: ┤ U(π/2,-π/2,π/2) ├┤ X ├┤ P(-4.2866) ├┤ X ├┤ U(-π/2,-π/2,π/2) ├┤ H ├»\n",
       "«      └──────┬───┬──────┘└───┘└────────────┘└───┘└──────┬───┬───────┘├───┤»\n",
       "«q2_2: ───────┤ H ├─────────■──────────────────■─────────┤ H ├────────┤ H ├»\n",
       "«             └───┘       ┌─┴─┐┌────────────┐┌─┴─┐       ├───┤        └───┘»\n",
       "«q2_3: ───────────────────┤ X ├┤ P(-11.341) ├┤ X ├───────┤ H ├─────────────»\n",
       "«                         └───┘└────────────┘└───┘       └───┘             »\n",
       "«c1: 4/════════════════════════════════════════════════════════════════════»\n",
       "«                                                                          »\n",
       "«                                                                ┌───┐\n",
       "«q2_0: ────────────────────────────────────■──────────────────■──┤ H ├\n",
       "«                              ┌───┐┌───┐┌─┴─┐┌────────────┐┌─┴─┐├───┤\n",
       "«q2_1: ──■──────────────────■──┤ H ├┤ H ├┤ X ├┤ P(-4.2866) ├┤ X ├┤ H ├\n",
       "«      ┌─┴─┐┌────────────┐┌─┴─┐├───┤└───┘└───┘└────────────┘└───┘└───┘\n",
       "«q2_2: ┤ X ├┤ P(-7.8262) ├┤ X ├┤ H ├──────────────────────────────────\n",
       "«      └───┘└────────────┘└───┘└───┘                                  \n",
       "«q2_3: ───────────────────────────────────────────────────────────────\n",
       "«                                                                     \n",
       "«c1: 4/═══════════════════════════════════════════════════════════════\n",
       "«                                                                     "
      ]
     },
     "execution_count": 10,
     "metadata": {},
     "output_type": "execute_result"
    }
   ],
   "source": [
    "H_oh = SparseEncodingHamiltonian(N_states=4, qiskit_order=True)\n",
    "weighted_paulis = [(v, Pauli.from_label(k)) for (k, v) in list(H_oh.pauli_coeffs.items())]\n",
    "my_pauli = WeightedPauliOperator(weighted_paulis)\n",
    "\n",
    "# To prepare the uniform superposition, run the sparse variational ansatz with the following parameters\n",
    "θ_1 = 2 * np.pi / 3\n",
    "θ_2 = 2 * np.arccos(1/np.sqrt(3)) \n",
    "θ_3 = 2 * np.arccos(1/(np.sqrt(3) * np.sin(θ_2 / 2)))\n",
    "params = [θ_1, θ_2, θ_3]\n",
    "\n",
    "# Construct uniform superposition over spherical coordinates\n",
    "q = QuantumRegister(H_oh.N_qubits)\n",
    "c = ClassicalRegister(H_oh.N_qubits)\n",
    "\n",
    "circuit = QuantumCircuit(q, c)\n",
    "circuit.x(q[0])\n",
    "circuit.ry(θ_1, q[1])\n",
    "circuit.cx(q[1], q[0])\n",
    "circuit.cry(θ_2, q[1], q[2])\n",
    "circuit.cx(q[2], q[1])\n",
    "circuit.cry(θ_3, q[2], q[3])\n",
    "circuit.cx(q[3], q[2])\n",
    "\n",
    "circuit += my_pauli.evolve(\n",
    "    None, evo_time=T, num_time_slices=1,\n",
    "    quantum_registers=q,\n",
    "    expansion_mode='trotter'\n",
    ")\n",
    "\n",
    "circuit.decompose().draw()"
   ]
  },
  {
   "cell_type": "code",
   "execution_count": 11,
   "metadata": {},
   "outputs": [],
   "source": [
    "oh_circuit_time_estimate = 17*mean_cnot + 18*mean_1qubit_gate_length"
   ]
  },
  {
   "cell_type": "code",
   "execution_count": 12,
   "metadata": {},
   "outputs": [
    {
     "name": "stdout",
     "output_type": "stream",
     "text": [
      "Coherence time qubit 0 (μs): 17.14\n",
      "Coherence time qubit 1 (μs): 111.42\n",
      "Coherence time qubit 2 (μs): 141.44\n",
      "Coherence time qubit 3 (μs): 120.90\n",
      "\n",
      "1 Trotter steps, execution time estimate (μs) 6.55\n",
      "2 Trotter steps, execution time estimate (μs) 13.03\n",
      "3 Trotter steps, execution time estimate (μs) 19.50\n",
      "4 Trotter steps, execution time estimate (μs) 25.98\n",
      "5 Trotter steps, execution time estimate (μs) 32.46\n",
      "6 Trotter steps, execution time estimate (μs) 38.94\n",
      "7 Trotter steps, execution time estimate (μs) 45.41\n",
      "8 Trotter steps, execution time estimate (μs) 51.89\n",
      "9 Trotter steps, execution time estimate (μs) 58.37\n",
      "10 Trotter steps, execution time estimate (μs) 64.85\n",
      "11 Trotter steps, execution time estimate (μs) 71.32\n",
      "12 Trotter steps, execution time estimate (μs) 77.80\n",
      "13 Trotter steps, execution time estimate (μs) 84.28\n",
      "14 Trotter steps, execution time estimate (μs) 90.76\n",
      "15 Trotter steps, execution time estimate (μs) 97.23\n",
      "16 Trotter steps, execution time estimate (μs) 103.71\n",
      "17 Trotter steps, execution time estimate (μs) 110.19\n",
      "18 Trotter steps, execution time estimate (μs) 116.67\n",
      "19 Trotter steps, execution time estimate (μs) 123.15\n"
     ]
    }
   ],
   "source": [
    "print(f\"Coherence time qubit 0 (μs): {1e6*qubit0_t2:.2f}\")\n",
    "print(f\"Coherence time qubit 1 (μs): {1e6*qubit1_t2:.2f}\")\n",
    "print(f\"Coherence time qubit 2 (μs): {1e6*qubit2_t2:.2f}\")\n",
    "print(f\"Coherence time qubit 3 (μs): {1e6*qubit3_t2:.2f}\")\n",
    "print()\n",
    "for trotter_steps in range(1, 20):\n",
    "    circuit_time_estimate = mean_1qubit_gate_length + trotter_steps*_circuit_time_estimate\n",
    "    print(f\"{trotter_steps} Trotter steps, execution time estimate (μs) {1e6*circuit_time_estimate:.2f}\")"
   ]
  },
  {
   "cell_type": "markdown",
   "metadata": {},
   "source": [
    "The execution time for the one-hot circuits start to surpass the first coherence time after 3 Trotter steps. Furthermore, assuming that qubit 0 with the lowest cohrence time is that mapped to the first qubit 3 Trotter steps isn't enough to give good simulation accuracy in the first place, and things just go downhill from there."
   ]
  }
 ],
 "metadata": {
  "kernelspec": {
   "display_name": "Python 3",
   "language": "python",
   "name": "python3"
  },
  "language_info": {
   "codemirror_mode": {
    "name": "ipython",
    "version": 3
   },
   "file_extension": ".py",
   "mimetype": "text/x-python",
   "name": "python",
   "nbconvert_exporter": "python",
   "pygments_lexer": "ipython3",
   "version": "3.7.5"
  }
 },
 "nbformat": 4,
 "nbformat_minor": 4
}
